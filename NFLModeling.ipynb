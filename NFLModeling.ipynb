{
  "nbformat": 4,
  "nbformat_minor": 0,
  "metadata": {
    "colab": {
      "name": "NFLModeling.ipynb",
      "provenance": [],
      "collapsed_sections": []
    },
    "kernelspec": {
      "name": "python3",
      "display_name": "Python 3"
    }
  },
  "cells": [
    {
      "cell_type": "code",
      "metadata": {
        "id": "KTNJi5pXVQXp"
      },
      "source": [
        "import pandas as pd\n",
        "import numpy as np\n"
      ],
      "execution_count": 1,
      "outputs": []
    },
    {
      "cell_type": "code",
      "metadata": {
        "id": "lgTMDph8VWQ3",
        "outputId": "ec13046c-1ad1-4618-9bfb-60796842ef83",
        "colab": {
          "base_uri": "https://localhost:8080/"
        }
      },
      "source": [
        "!pip install scikit-learn"
      ],
      "execution_count": 2,
      "outputs": [
        {
          "output_type": "stream",
          "text": [
            "Requirement already satisfied: scikit-learn in /usr/local/lib/python3.6/dist-packages (0.22.2.post1)\n",
            "Requirement already satisfied: numpy>=1.11.0 in /usr/local/lib/python3.6/dist-packages (from scikit-learn) (1.18.5)\n",
            "Requirement already satisfied: scipy>=0.17.0 in /usr/local/lib/python3.6/dist-packages (from scikit-learn) (1.4.1)\n",
            "Requirement already satisfied: joblib>=0.11 in /usr/local/lib/python3.6/dist-packages (from scikit-learn) (0.17.0)\n"
          ],
          "name": "stdout"
        }
      ]
    },
    {
      "cell_type": "code",
      "metadata": {
        "id": "AUhka22EW4Lt"
      },
      "source": [
        "#Model preprocessin + cross validation\n",
        "from sklearn.model_selection import train_test_split\n",
        "from sklearn.model_selection import RandomizedSearchCV\n",
        "\n",
        "\n",
        "\n",
        "from sklearn.model_selection import RandomizedSearchCV\n",
        "from sklearn.impute import SimpleImputer\n",
        "from sklearn.pipeline import Pipeline\n",
        "from sklearn.preprocessing import StandardScaler"
      ],
      "execution_count": 3,
      "outputs": []
    },
    {
      "cell_type": "code",
      "metadata": {
        "id": "MDTffoMpW5Cb"
      },
      "source": [
        "#classification algorithms + metrics \n",
        "from sklearn.ensemble import RandomForestClassifier\n",
        "from sklearn.svm import SVC\n",
        "from sklearn.neighbors import KNeighborsClassifier\n",
        "from sklearn.linear_model import SGDClassifier\n",
        "from sklearn.neural_network import MLPClassifier\n",
        "from sklearn.ensemble import GradientBoostingClassifier\n",
        "\n",
        "from sklearn.metrics import accuracy_score\n",
        "from sklearn.metrics import classification_report"
      ],
      "execution_count": 5,
      "outputs": []
    },
    {
      "cell_type": "code",
      "metadata": {
        "id": "4qsU2EUJVYNr"
      },
      "source": [
        "play_predictor_df = pd.read_csv('/content/drive/My Drive/Data I 0/PlayPredictor.csv')"
      ],
      "execution_count": 7,
      "outputs": []
    },
    {
      "cell_type": "code",
      "metadata": {
        "id": "xqQy9CVgVmt4",
        "outputId": "7c8b324f-619a-4c5f-fb45-3e08417d4c42",
        "colab": {
          "base_uri": "https://localhost:8080/",
          "height": 426
        }
      },
      "source": [
        "play_predictor_df"
      ],
      "execution_count": 20,
      "outputs": [
        {
          "output_type": "execute_result",
          "data": {
            "text/html": [
              "<div>\n",
              "<style scoped>\n",
              "    .dataframe tbody tr th:only-of-type {\n",
              "        vertical-align: middle;\n",
              "    }\n",
              "\n",
              "    .dataframe tbody tr th {\n",
              "        vertical-align: top;\n",
              "    }\n",
              "\n",
              "    .dataframe thead th {\n",
              "        text-align: right;\n",
              "    }\n",
              "</style>\n",
              "<table border=\"1\" class=\"dataframe\">\n",
              "  <thead>\n",
              "    <tr style=\"text-align: right;\">\n",
              "      <th></th>\n",
              "      <th>yardline_100</th>\n",
              "      <th>quarter_seconds_remaining</th>\n",
              "      <th>qtr</th>\n",
              "      <th>down</th>\n",
              "      <th>ydstogo</th>\n",
              "      <th>play_type</th>\n",
              "      <th>shotgun</th>\n",
              "      <th>no_huddle</th>\n",
              "      <th>third_down_converted</th>\n",
              "      <th>third_down_failed</th>\n",
              "      <th>pass_touchdown</th>\n",
              "      <th>rush_touchdown</th>\n",
              "      <th>return_touchdown</th>\n",
              "      <th>safety</th>\n",
              "    </tr>\n",
              "  </thead>\n",
              "  <tbody>\n",
              "    <tr>\n",
              "      <th>0</th>\n",
              "      <td>30.0</td>\n",
              "      <td>900.0</td>\n",
              "      <td>1</td>\n",
              "      <td>NaN</td>\n",
              "      <td>0</td>\n",
              "      <td>3</td>\n",
              "      <td>0</td>\n",
              "      <td>0</td>\n",
              "      <td>0.0</td>\n",
              "      <td>0.0</td>\n",
              "      <td>0.0</td>\n",
              "      <td>0.0</td>\n",
              "      <td>0.0</td>\n",
              "      <td>0.0</td>\n",
              "    </tr>\n",
              "    <tr>\n",
              "      <th>1</th>\n",
              "      <td>58.0</td>\n",
              "      <td>893.0</td>\n",
              "      <td>1</td>\n",
              "      <td>1.0</td>\n",
              "      <td>10</td>\n",
              "      <td>0</td>\n",
              "      <td>0</td>\n",
              "      <td>0</td>\n",
              "      <td>0.0</td>\n",
              "      <td>0.0</td>\n",
              "      <td>0.0</td>\n",
              "      <td>0.0</td>\n",
              "      <td>0.0</td>\n",
              "      <td>0.0</td>\n",
              "    </tr>\n",
              "    <tr>\n",
              "      <th>2</th>\n",
              "      <td>53.0</td>\n",
              "      <td>856.0</td>\n",
              "      <td>1</td>\n",
              "      <td>2.0</td>\n",
              "      <td>5</td>\n",
              "      <td>1</td>\n",
              "      <td>0</td>\n",
              "      <td>0</td>\n",
              "      <td>0.0</td>\n",
              "      <td>0.0</td>\n",
              "      <td>0.0</td>\n",
              "      <td>0.0</td>\n",
              "      <td>0.0</td>\n",
              "      <td>0.0</td>\n",
              "    </tr>\n",
              "    <tr>\n",
              "      <th>3</th>\n",
              "      <td>56.0</td>\n",
              "      <td>815.0</td>\n",
              "      <td>1</td>\n",
              "      <td>3.0</td>\n",
              "      <td>8</td>\n",
              "      <td>0</td>\n",
              "      <td>1</td>\n",
              "      <td>0</td>\n",
              "      <td>0.0</td>\n",
              "      <td>1.0</td>\n",
              "      <td>0.0</td>\n",
              "      <td>0.0</td>\n",
              "      <td>0.0</td>\n",
              "      <td>0.0</td>\n",
              "    </tr>\n",
              "    <tr>\n",
              "      <th>4</th>\n",
              "      <td>56.0</td>\n",
              "      <td>807.0</td>\n",
              "      <td>1</td>\n",
              "      <td>4.0</td>\n",
              "      <td>8</td>\n",
              "      <td>4</td>\n",
              "      <td>0</td>\n",
              "      <td>0</td>\n",
              "      <td>0.0</td>\n",
              "      <td>0.0</td>\n",
              "      <td>0.0</td>\n",
              "      <td>0.0</td>\n",
              "      <td>0.0</td>\n",
              "      <td>0.0</td>\n",
              "    </tr>\n",
              "    <tr>\n",
              "      <th>...</th>\n",
              "      <td>...</td>\n",
              "      <td>...</td>\n",
              "      <td>...</td>\n",
              "      <td>...</td>\n",
              "      <td>...</td>\n",
              "      <td>...</td>\n",
              "      <td>...</td>\n",
              "      <td>...</td>\n",
              "      <td>...</td>\n",
              "      <td>...</td>\n",
              "      <td>...</td>\n",
              "      <td>...</td>\n",
              "      <td>...</td>\n",
              "      <td>...</td>\n",
              "    </tr>\n",
              "    <tr>\n",
              "      <th>449366</th>\n",
              "      <td>66.0</td>\n",
              "      <td>63.0</td>\n",
              "      <td>4</td>\n",
              "      <td>2.0</td>\n",
              "      <td>10</td>\n",
              "      <td>0</td>\n",
              "      <td>1</td>\n",
              "      <td>0</td>\n",
              "      <td>0.0</td>\n",
              "      <td>0.0</td>\n",
              "      <td>0.0</td>\n",
              "      <td>0.0</td>\n",
              "      <td>0.0</td>\n",
              "      <td>0.0</td>\n",
              "    </tr>\n",
              "    <tr>\n",
              "      <th>449367</th>\n",
              "      <td>66.0</td>\n",
              "      <td>58.0</td>\n",
              "      <td>4</td>\n",
              "      <td>3.0</td>\n",
              "      <td>10</td>\n",
              "      <td>0</td>\n",
              "      <td>1</td>\n",
              "      <td>0</td>\n",
              "      <td>0.0</td>\n",
              "      <td>1.0</td>\n",
              "      <td>0.0</td>\n",
              "      <td>0.0</td>\n",
              "      <td>0.0</td>\n",
              "      <td>0.0</td>\n",
              "    </tr>\n",
              "    <tr>\n",
              "      <th>449368</th>\n",
              "      <td>61.0</td>\n",
              "      <td>38.0</td>\n",
              "      <td>4</td>\n",
              "      <td>4.0</td>\n",
              "      <td>5</td>\n",
              "      <td>0</td>\n",
              "      <td>1</td>\n",
              "      <td>1</td>\n",
              "      <td>0.0</td>\n",
              "      <td>0.0</td>\n",
              "      <td>0.0</td>\n",
              "      <td>0.0</td>\n",
              "      <td>0.0</td>\n",
              "      <td>0.0</td>\n",
              "    </tr>\n",
              "    <tr>\n",
              "      <th>449369</th>\n",
              "      <td>39.0</td>\n",
              "      <td>35.0</td>\n",
              "      <td>4</td>\n",
              "      <td>1.0</td>\n",
              "      <td>10</td>\n",
              "      <td>7</td>\n",
              "      <td>0</td>\n",
              "      <td>0</td>\n",
              "      <td>0.0</td>\n",
              "      <td>0.0</td>\n",
              "      <td>0.0</td>\n",
              "      <td>0.0</td>\n",
              "      <td>0.0</td>\n",
              "      <td>0.0</td>\n",
              "    </tr>\n",
              "    <tr>\n",
              "      <th>449370</th>\n",
              "      <td>NaN</td>\n",
              "      <td>0.0</td>\n",
              "      <td>4</td>\n",
              "      <td>NaN</td>\n",
              "      <td>0</td>\n",
              "      <td>9</td>\n",
              "      <td>0</td>\n",
              "      <td>0</td>\n",
              "      <td>NaN</td>\n",
              "      <td>NaN</td>\n",
              "      <td>NaN</td>\n",
              "      <td>NaN</td>\n",
              "      <td>NaN</td>\n",
              "      <td>NaN</td>\n",
              "    </tr>\n",
              "  </tbody>\n",
              "</table>\n",
              "<p>449371 rows × 14 columns</p>\n",
              "</div>"
            ],
            "text/plain": [
              "        yardline_100  quarter_seconds_remaining  ...  return_touchdown  safety\n",
              "0               30.0                      900.0  ...               0.0     0.0\n",
              "1               58.0                      893.0  ...               0.0     0.0\n",
              "2               53.0                      856.0  ...               0.0     0.0\n",
              "3               56.0                      815.0  ...               0.0     0.0\n",
              "4               56.0                      807.0  ...               0.0     0.0\n",
              "...              ...                        ...  ...               ...     ...\n",
              "449366          66.0                       63.0  ...               0.0     0.0\n",
              "449367          66.0                       58.0  ...               0.0     0.0\n",
              "449368          61.0                       38.0  ...               0.0     0.0\n",
              "449369          39.0                       35.0  ...               0.0     0.0\n",
              "449370           NaN                        0.0  ...               NaN     NaN\n",
              "\n",
              "[449371 rows x 14 columns]"
            ]
          },
          "metadata": {
            "tags": []
          },
          "execution_count": 20
        }
      ]
    },
    {
      "cell_type": "code",
      "metadata": {
        "id": "M8YNVH-yVYRq"
      },
      "source": [
        "play_predictor_features = play_predictor_df.drop('play_type', axis=1)\n",
        "\n",
        "play_predictor_target = play_predictor_df.play_type.values"
      ],
      "execution_count": 21,
      "outputs": []
    },
    {
      "cell_type": "code",
      "metadata": {
        "id": "QTy3PfVDVYUc",
        "outputId": "0d3d95c9-0152-4376-9f4c-3f9d44ce39f1",
        "colab": {
          "base_uri": "https://localhost:8080/"
        }
      },
      "source": [
        "play_predictor_features.shape"
      ],
      "execution_count": 22,
      "outputs": [
        {
          "output_type": "execute_result",
          "data": {
            "text/plain": [
              "(449371, 13)"
            ]
          },
          "metadata": {
            "tags": []
          },
          "execution_count": 22
        }
      ]
    },
    {
      "cell_type": "code",
      "metadata": {
        "id": "GsERLtfhVYW7",
        "outputId": "c72b83ec-f58e-4ed4-f854-21e5dfb9a2c9",
        "colab": {
          "base_uri": "https://localhost:8080/"
        }
      },
      "source": [
        "play_predictor_target.shape"
      ],
      "execution_count": 23,
      "outputs": [
        {
          "output_type": "execute_result",
          "data": {
            "text/plain": [
              "(449371,)"
            ]
          },
          "metadata": {
            "tags": []
          },
          "execution_count": 23
        }
      ]
    },
    {
      "cell_type": "code",
      "metadata": {
        "id": "KlekUBY8V2CJ"
      },
      "source": [
        "imp = SimpleImputer(missing_values=np.nan, strategy='median')\n",
        "\n",
        "imp.fit(play_predictor_features)\n",
        "\n",
        "play_predictor_features = imp.transform(play_predictor_features)"
      ],
      "execution_count": 24,
      "outputs": []
    },
    {
      "cell_type": "code",
      "metadata": {
        "id": "8NpA2QEmV2FD"
      },
      "source": [
        "play_predictor_X_train, play_predictor_X_test, play_predictor_y_train, play_predictor_y_test = train_test_split(play_predictor_features, play_predictor_target, test_size=0.3, random_state=42)"
      ],
      "execution_count": 25,
      "outputs": []
    },
    {
      "cell_type": "code",
      "metadata": {
        "id": "GHDyVZvYV2IG",
        "outputId": "c20a3998-e424-4c74-a2e0-6bc6a10e7bf7",
        "colab": {
          "base_uri": "https://localhost:8080/"
        }
      },
      "source": [
        "play_predictor_X_train.shape"
      ],
      "execution_count": 26,
      "outputs": [
        {
          "output_type": "execute_result",
          "data": {
            "text/plain": [
              "(314559, 13)"
            ]
          },
          "metadata": {
            "tags": []
          },
          "execution_count": 26
        }
      ]
    },
    {
      "cell_type": "code",
      "metadata": {
        "id": "YdmpFHqfV8BX",
        "outputId": "07e810fb-cb3d-45e8-f551-a35dcfc4f2a6",
        "colab": {
          "base_uri": "https://localhost:8080/"
        }
      },
      "source": [
        "np.any(np.isnan(play_predictor_X_train))"
      ],
      "execution_count": 27,
      "outputs": [
        {
          "output_type": "execute_result",
          "data": {
            "text/plain": [
              "False"
            ]
          },
          "metadata": {
            "tags": []
          },
          "execution_count": 27
        }
      ]
    },
    {
      "cell_type": "code",
      "metadata": {
        "id": "d5b0MS0AV8EJ",
        "outputId": "cdf51105-dc9f-41ce-8886-f70d0998c067",
        "colab": {
          "base_uri": "https://localhost:8080/"
        }
      },
      "source": [
        "np.any(np.isnan(play_predictor_y_train))"
      ],
      "execution_count": 28,
      "outputs": [
        {
          "output_type": "execute_result",
          "data": {
            "text/plain": [
              "False"
            ]
          },
          "metadata": {
            "tags": []
          },
          "execution_count": 28
        }
      ]
    },
    {
      "cell_type": "code",
      "metadata": {
        "id": "-EUjgv5bV8Gu"
      },
      "source": [
        "rand_forest_play_predictor = RandomForestClassifier()\n",
        "\n",
        "\n",
        "sgd_play_predictor = SGDClassifier()"
      ],
      "execution_count": 43,
      "outputs": []
    },
    {
      "cell_type": "code",
      "metadata": {
        "id": "v_IgUtyIV8JZ"
      },
      "source": [
        "rand_forest_play_predictor_steps = [('scaler', StandardScaler()), ('rand_forest_play_predictor', RandomForestClassifier())]\n",
        "\n",
        "\n",
        "sgd_play_predictor_steps = [('scaler', StandardScaler()), ('sgd_play_predictor', SGDClassifier())]"
      ],
      "execution_count": 44,
      "outputs": []
    },
    {
      "cell_type": "code",
      "metadata": {
        "id": "Q5Dnz5lnV8MM"
      },
      "source": [
        "rand_forest_play_predictor_pipeline = Pipeline(rand_forest_play_predictor_steps)\n",
        "\n",
        "\n",
        "sgd_play_predictor_pipeline = Pipeline(sgd_play_predictor_steps)"
      ],
      "execution_count": 45,
      "outputs": []
    },
    {
      "cell_type": "code",
      "metadata": {
        "id": "hh5Ac-rzWHUD",
        "outputId": "81d87b8e-80b4-4ea8-d14e-e262f786e299",
        "colab": {
          "base_uri": "https://localhost:8080/"
        }
      },
      "source": [
        "rand_forest_play_predictor_pipeline.fit(play_predictor_X_train, play_predictor_y_train)"
      ],
      "execution_count": 46,
      "outputs": [
        {
          "output_type": "execute_result",
          "data": {
            "text/plain": [
              "Pipeline(memory=None,\n",
              "         steps=[('scaler',\n",
              "                 StandardScaler(copy=True, with_mean=True, with_std=True)),\n",
              "                ('rand_forest_play_predictor',\n",
              "                 RandomForestClassifier(bootstrap=True, ccp_alpha=0.0,\n",
              "                                        class_weight=None, criterion='gini',\n",
              "                                        max_depth=None, max_features='auto',\n",
              "                                        max_leaf_nodes=None, max_samples=None,\n",
              "                                        min_impurity_decrease=0.0,\n",
              "                                        min_impurity_split=None,\n",
              "                                        min_samples_leaf=1, min_samples_split=2,\n",
              "                                        min_weight_fraction_leaf=0.0,\n",
              "                                        n_estimators=100, n_jobs=None,\n",
              "                                        oob_score=False, random_state=None,\n",
              "                                        verbose=0, warm_start=False))],\n",
              "         verbose=False)"
            ]
          },
          "metadata": {
            "tags": []
          },
          "execution_count": 46
        }
      ]
    },
    {
      "cell_type": "code",
      "metadata": {
        "id": "6pjhlcc1WHWw",
        "outputId": "a0240989-1b95-43aa-99af-7cbc27ac39a7",
        "colab": {
          "base_uri": "https://localhost:8080/"
        }
      },
      "source": [
        "sgd_play_predictor_pipeline.fit(play_predictor_X_train, play_predictor_y_train)"
      ],
      "execution_count": 47,
      "outputs": [
        {
          "output_type": "execute_result",
          "data": {
            "text/plain": [
              "Pipeline(memory=None,\n",
              "         steps=[('scaler',\n",
              "                 StandardScaler(copy=True, with_mean=True, with_std=True)),\n",
              "                ('sgd_play_predictor',\n",
              "                 SGDClassifier(alpha=0.0001, average=False, class_weight=None,\n",
              "                               early_stopping=False, epsilon=0.1, eta0=0.0,\n",
              "                               fit_intercept=True, l1_ratio=0.15,\n",
              "                               learning_rate='optimal', loss='hinge',\n",
              "                               max_iter=1000, n_iter_no_change=5, n_jobs=None,\n",
              "                               penalty='l2', power_t=0.5, random_state=None,\n",
              "                               shuffle=True, tol=0.001, validation_fraction=0.1,\n",
              "                               verbose=0, warm_start=False))],\n",
              "         verbose=False)"
            ]
          },
          "metadata": {
            "tags": []
          },
          "execution_count": 47
        }
      ]
    },
    {
      "cell_type": "code",
      "metadata": {
        "id": "RZk8L1NKWHZf"
      },
      "source": [
        "rand_forest_play_predictions = rand_forest_play_predictor_pipeline.predict(play_predictor_X_test)"
      ],
      "execution_count": 48,
      "outputs": []
    },
    {
      "cell_type": "code",
      "metadata": {
        "id": "rzGzz0k9WHd0"
      },
      "source": [
        "sgd_play_predictions = sgd_play_predictor_pipeline.predict(play_predictor_X_test)"
      ],
      "execution_count": 50,
      "outputs": []
    },
    {
      "cell_type": "code",
      "metadata": {
        "id": "DpWLfsjQWHgq"
      },
      "source": [
        "rand_forest_play_prediction_accuracy = accuracy_score(play_predictor_y_test, rand_forest_play_predictions)\n",
        "\n",
        "\n",
        "\n",
        "sgd_play_prediction_accuracy = accuracy_score(play_predictor_y_test, sgd_play_predictions)"
      ],
      "execution_count": 51,
      "outputs": []
    },
    {
      "cell_type": "code",
      "metadata": {
        "id": "-5VHnFc-WHi9"
      },
      "source": [
        "rand_forest_play_prediction_report = classification_report(play_predictor_y_test, rand_forest_play_predictions)\n",
        "\n",
        "\n",
        "\n",
        "sgd_play_prediction_report = classification_report(play_predictor_y_test, sgd_play_predictions)"
      ],
      "execution_count": 52,
      "outputs": []
    },
    {
      "cell_type": "code",
      "metadata": {
        "id": "tv_HJSv0WHlq",
        "outputId": "56382e5b-5de1-402e-8da2-8a8eb1dd07b4",
        "colab": {
          "base_uri": "https://localhost:8080/"
        }
      },
      "source": [
        "print(\"RandomForestClassifier accuracy: {}\".format(rand_forest_play_prediction_accuracy))\n",
        "print()\n",
        "print(\"RandomForestClassifier classification report\")\n",
        "print()\n",
        "print(rand_forest_play_prediction_report)\n",
        "\n",
        "\n",
        "print()\n",
        "print()\n",
        "\n",
        "\n",
        "\n",
        "print(\"SGDClassifier accuracy: {}\".format(sgd_play_prediction_accuracy))\n",
        "print()\n",
        "print(\"SGDClassifier classification report\")\n",
        "print()\n",
        "print(sgd_play_prediction_report)\n"
      ],
      "execution_count": 53,
      "outputs": [
        {
          "output_type": "stream",
          "text": [
            "RandomForestClassifier accuracy: 0.7080972020294929\n",
            "\n",
            "RandomForestClassifier classification report\n",
            "\n",
            "              precision    recall  f1-score   support\n",
            "\n",
            "           0       0.69      0.74      0.71     55945\n",
            "           1       0.59      0.57      0.58     39956\n",
            "           2       0.72      0.54      0.62     12793\n",
            "           3       0.97      0.98      0.97      7668\n",
            "           4       0.92      0.98      0.95      7133\n",
            "           5       0.88      0.91      0.90      3286\n",
            "           6       0.88      0.93      0.90      2892\n",
            "           7       0.69      0.76      0.72      1099\n",
            "           8       0.46      0.31      0.37       208\n",
            "           9       0.98      0.96      0.97      3832\n",
            "\n",
            "    accuracy                           0.71    134812\n",
            "   macro avg       0.78      0.77      0.77    134812\n",
            "weighted avg       0.71      0.71      0.71    134812\n",
            "\n",
            "\n",
            "\n",
            "SGDClassifier accuracy: 0.666305670118387\n",
            "\n",
            "SGDClassifier classification report\n",
            "\n",
            "              precision    recall  f1-score   support\n",
            "\n",
            "           0       0.73      0.71      0.72     55945\n",
            "           1       0.59      0.70      0.64     39956\n",
            "           2       0.31      0.02      0.03     12793\n",
            "           3       0.64      0.82      0.72      7668\n",
            "           4       0.91      0.99      0.95      7133\n",
            "           5       0.69      0.87      0.77      3286\n",
            "           6       0.81      0.91      0.85      2892\n",
            "           7       0.20      0.01      0.02      1099\n",
            "           8       0.52      0.11      0.18       208\n",
            "           9       0.43      0.77      0.56      3832\n",
            "\n",
            "    accuracy                           0.67    134812\n",
            "   macro avg       0.58      0.59      0.54    134812\n",
            "weighted avg       0.64      0.67      0.64    134812\n",
            "\n"
          ],
          "name": "stdout"
        }
      ]
    },
    {
      "cell_type": "code",
      "metadata": {
        "id": "IxI9ZFqtWHof",
        "outputId": "3db6bc10-3368-4e71-9a77-b0bddbefe279",
        "colab": {
          "base_uri": "https://localhost:8080/",
          "height": 582
        }
      },
      "source": [
        "comparison = {'rand_forest_play_predictor':rand_forest_play_prediction_accuracy, \n",
        "            'sgd_play_predictor':sgd_play_prediction_accuracy}\n",
        "\n",
        "compare_metrics = pd.DataFrame(data=comparison, index=['Model Comparison'])\n",
        "\n",
        "compare_metrics.plot.bar(figsize=(12,8))\n"
      ],
      "execution_count": 54,
      "outputs": [
        {
          "output_type": "execute_result",
          "data": {
            "text/plain": [
              "<matplotlib.axes._subplots.AxesSubplot at 0x7f42807079b0>"
            ]
          },
          "metadata": {
            "tags": []
          },
          "execution_count": 54
        },
        {
          "output_type": "display_data",
          "data": {
            "image/png": "[encoded data removed]",
            "text/plain": [
              "<Figure size 864x576 with 1 Axes>"
            ]
          },
          "metadata": {
            "tags": [],
            "needs_background": "light"
          }
        }
      ]
    },
    {
      "cell_type": "code",
      "metadata": {
        "id": "nYg1R7GSWVz7"
      },
      "source": [
        "predictive_features_df = pd.DataFrame(play_predictor_features)"
      ],
      "execution_count": 55,
      "outputs": []
    },
    {
      "cell_type": "code",
      "metadata": {
        "id": "MTCZLDISWV2j"
      },
      "source": [
        "results_df = pd.DataFrame({\"Actual_Play_Type\":play_predictor_y_test, \"Predicted_Play_Type\":rand_forest_play_predictions})"
      ],
      "execution_count": 56,
      "outputs": []
    },
    {
      "cell_type": "code",
      "metadata": {
        "id": "LaOBqg8uWV5c",
        "outputId": "8bc8c1f8-01b5-4071-be77-f71db2dab5ca",
        "colab": {
          "base_uri": "https://localhost:8080/",
          "height": 406
        }
      },
      "source": [
        "results_df"
      ],
      "execution_count": 57,
      "outputs": [
        {
          "output_type": "execute_result",
          "data": {
            "text/html": [
              "<div>\n",
              "<style scoped>\n",
              "    .dataframe tbody tr th:only-of-type {\n",
              "        vertical-align: middle;\n",
              "    }\n",
              "\n",
              "    .dataframe tbody tr th {\n",
              "        vertical-align: top;\n",
              "    }\n",
              "\n",
              "    .dataframe thead th {\n",
              "        text-align: right;\n",
              "    }\n",
              "</style>\n",
              "<table border=\"1\" class=\"dataframe\">\n",
              "  <thead>\n",
              "    <tr style=\"text-align: right;\">\n",
              "      <th></th>\n",
              "      <th>Actual_Play_Type</th>\n",
              "      <th>Predicted_Play_Type</th>\n",
              "    </tr>\n",
              "  </thead>\n",
              "  <tbody>\n",
              "    <tr>\n",
              "      <th>0</th>\n",
              "      <td>1</td>\n",
              "      <td>0</td>\n",
              "    </tr>\n",
              "    <tr>\n",
              "      <th>1</th>\n",
              "      <td>0</td>\n",
              "      <td>1</td>\n",
              "    </tr>\n",
              "    <tr>\n",
              "      <th>2</th>\n",
              "      <td>0</td>\n",
              "      <td>0</td>\n",
              "    </tr>\n",
              "    <tr>\n",
              "      <th>3</th>\n",
              "      <td>1</td>\n",
              "      <td>1</td>\n",
              "    </tr>\n",
              "    <tr>\n",
              "      <th>4</th>\n",
              "      <td>0</td>\n",
              "      <td>0</td>\n",
              "    </tr>\n",
              "    <tr>\n",
              "      <th>...</th>\n",
              "      <td>...</td>\n",
              "      <td>...</td>\n",
              "    </tr>\n",
              "    <tr>\n",
              "      <th>134807</th>\n",
              "      <td>1</td>\n",
              "      <td>1</td>\n",
              "    </tr>\n",
              "    <tr>\n",
              "      <th>134808</th>\n",
              "      <td>5</td>\n",
              "      <td>5</td>\n",
              "    </tr>\n",
              "    <tr>\n",
              "      <th>134809</th>\n",
              "      <td>0</td>\n",
              "      <td>2</td>\n",
              "    </tr>\n",
              "    <tr>\n",
              "      <th>134810</th>\n",
              "      <td>3</td>\n",
              "      <td>3</td>\n",
              "    </tr>\n",
              "    <tr>\n",
              "      <th>134811</th>\n",
              "      <td>0</td>\n",
              "      <td>0</td>\n",
              "    </tr>\n",
              "  </tbody>\n",
              "</table>\n",
              "<p>134812 rows × 2 columns</p>\n",
              "</div>"
            ],
            "text/plain": [
              "        Actual_Play_Type  Predicted_Play_Type\n",
              "0                      1                    0\n",
              "1                      0                    1\n",
              "2                      0                    0\n",
              "3                      1                    1\n",
              "4                      0                    0\n",
              "...                  ...                  ...\n",
              "134807                 1                    1\n",
              "134808                 5                    5\n",
              "134809                 0                    2\n",
              "134810                 3                    3\n",
              "134811                 0                    0\n",
              "\n",
              "[134812 rows x 2 columns]"
            ]
          },
          "metadata": {
            "tags": []
          },
          "execution_count": 57
        }
      ]
    },
    {
      "cell_type": "code",
      "metadata": {
        "id": "HH7eXMP3WHqz"
      },
      "source": [
        "results_df['Actual_Play_Type'] = results_df.Actual_Play_Type.apply(lambda row: \n",
        "                                                 'pass' if row == 0 \n",
        "                                                 else 'run' if row == 1 \n",
        "                                                 else 'no_play' if row == 2\n",
        "                                                 else 'kickoff' if row == 3 \n",
        "                                                 else 'punt' if row == 4 \n",
        "                                                 else 'extra_point' if row == 5\n",
        "                                                 else 'field_goal' if row == 6\n",
        "                                                 else 'qb_kneel' if row == 7\n",
        "                                                 else 'qb_spike' if row == 8\n",
        "                                                 else 9)\n"
      ],
      "execution_count": 58,
      "outputs": []
    },
    {
      "cell_type": "code",
      "metadata": {
        "id": "3-KgIY8IWfcK"
      },
      "source": [
        "results_df['Predicted_Play_Type'] = results_df.Predicted_Play_Type.apply(lambda row: \n",
        "                                                 'pass' if row == 0 \n",
        "                                                 else 'run' if row == 1 \n",
        "                                                 else 'no_play' if row == 2\n",
        "                                                 else 'kickoff' if row == 3 \n",
        "                                                 else 'punt' if row == 4 \n",
        "                                                 else 'extra_point' if row == 5\n",
        "                                                 else 'field_goal' if row == 6\n",
        "                                                 else 'qb_kneel' if row == 7\n",
        "                                                 else 'qb_spike' if row == 8\n",
        "                                                 else 9)"
      ],
      "execution_count": 59,
      "outputs": []
    },
    {
      "cell_type": "code",
      "metadata": {
        "id": "bUiKL_7QWhEO",
        "outputId": "bf405d9a-b9b9-4f9c-ac59-4cbea67fd3b4",
        "colab": {
          "base_uri": "https://localhost:8080/",
          "height": 406
        }
      },
      "source": [
        "results_df"
      ],
      "execution_count": 60,
      "outputs": [
        {
          "output_type": "execute_result",
          "data": {
            "text/html": [
              "<div>\n",
              "<style scoped>\n",
              "    .dataframe tbody tr th:only-of-type {\n",
              "        vertical-align: middle;\n",
              "    }\n",
              "\n",
              "    .dataframe tbody tr th {\n",
              "        vertical-align: top;\n",
              "    }\n",
              "\n",
              "    .dataframe thead th {\n",
              "        text-align: right;\n",
              "    }\n",
              "</style>\n",
              "<table border=\"1\" class=\"dataframe\">\n",
              "  <thead>\n",
              "    <tr style=\"text-align: right;\">\n",
              "      <th></th>\n",
              "      <th>Actual_Play_Type</th>\n",
              "      <th>Predicted_Play_Type</th>\n",
              "    </tr>\n",
              "  </thead>\n",
              "  <tbody>\n",
              "    <tr>\n",
              "      <th>0</th>\n",
              "      <td>run</td>\n",
              "      <td>pass</td>\n",
              "    </tr>\n",
              "    <tr>\n",
              "      <th>1</th>\n",
              "      <td>pass</td>\n",
              "      <td>run</td>\n",
              "    </tr>\n",
              "    <tr>\n",
              "      <th>2</th>\n",
              "      <td>pass</td>\n",
              "      <td>pass</td>\n",
              "    </tr>\n",
              "    <tr>\n",
              "      <th>3</th>\n",
              "      <td>run</td>\n",
              "      <td>run</td>\n",
              "    </tr>\n",
              "    <tr>\n",
              "      <th>4</th>\n",
              "      <td>pass</td>\n",
              "      <td>pass</td>\n",
              "    </tr>\n",
              "    <tr>\n",
              "      <th>...</th>\n",
              "      <td>...</td>\n",
              "      <td>...</td>\n",
              "    </tr>\n",
              "    <tr>\n",
              "      <th>134807</th>\n",
              "      <td>run</td>\n",
              "      <td>run</td>\n",
              "    </tr>\n",
              "    <tr>\n",
              "      <th>134808</th>\n",
              "      <td>extra_point</td>\n",
              "      <td>extra_point</td>\n",
              "    </tr>\n",
              "    <tr>\n",
              "      <th>134809</th>\n",
              "      <td>pass</td>\n",
              "      <td>no_play</td>\n",
              "    </tr>\n",
              "    <tr>\n",
              "      <th>134810</th>\n",
              "      <td>kickoff</td>\n",
              "      <td>kickoff</td>\n",
              "    </tr>\n",
              "    <tr>\n",
              "      <th>134811</th>\n",
              "      <td>pass</td>\n",
              "      <td>pass</td>\n",
              "    </tr>\n",
              "  </tbody>\n",
              "</table>\n",
              "<p>134812 rows × 2 columns</p>\n",
              "</div>"
            ],
            "text/plain": [
              "       Actual_Play_Type Predicted_Play_Type\n",
              "0                   run                pass\n",
              "1                  pass                 run\n",
              "2                  pass                pass\n",
              "3                   run                 run\n",
              "4                  pass                pass\n",
              "...                 ...                 ...\n",
              "134807              run                 run\n",
              "134808      extra_point         extra_point\n",
              "134809             pass             no_play\n",
              "134810          kickoff             kickoff\n",
              "134811             pass                pass\n",
              "\n",
              "[134812 rows x 2 columns]"
            ]
          },
          "metadata": {
            "tags": []
          },
          "execution_count": 60
        }
      ]
    },
    {
      "cell_type": "code",
      "metadata": {
        "id": "cUR-XJMOl1wv"
      },
      "source": [
        "\n",
        "mlp_play_predictor = MLPClassifier()\n",
        "\n",
        "gb_play_predictor = GradientBoostingClassifier()\n"
      ],
      "execution_count": 12,
      "outputs": []
    },
    {
      "cell_type": "code",
      "metadata": {
        "id": "LuSfCKFFm_fo"
      },
      "source": [
        "mlp_play_predictor_steps = [('scaler', StandardScaler()), ('mlp_play_predictor', MLPClassifier())]\n",
        "\n",
        "gb_play_predictor_steps = [('scaler', StandardScaler()), ('gb_play_predictor', GradientBoostingClassifier())]"
      ],
      "execution_count": 13,
      "outputs": []
    },
    {
      "cell_type": "code",
      "metadata": {
        "id": "2IYB1OZ8nr49"
      },
      "source": [
        "mlp_play_predictor_pipeline = Pipeline(mlp_play_predictor_steps)\n",
        "\n",
        "gb_play_predictor_pipeline = Pipeline(gb_play_predictor_steps)"
      ],
      "execution_count": 18,
      "outputs": []
    },
    {
      "cell_type": "code",
      "metadata": {
        "id": "z-xji_yVn0hL",
        "outputId": "ef255fec-b972-4d50-b71b-ab1a150f5b3f",
        "colab": {
          "base_uri": "https://localhost:8080/"
        }
      },
      "source": [
        "mlp_play_predictor_pipeline.fit(play_predictor_X_train, play_predictor_y_train)\n",
        "\n"
      ],
      "execution_count": 29,
      "outputs": [
        {
          "output_type": "stream",
          "text": [
            "/usr/local/lib/python3.6/dist-packages/sklearn/neural_network/_multilayer_perceptron.py:571: ConvergenceWarning: Stochastic Optimizer: Maximum iterations (200) reached and the optimization hasn't converged yet.\n",
            "  % self.max_iter, ConvergenceWarning)\n"
          ],
          "name": "stderr"
        },
        {
          "output_type": "execute_result",
          "data": {
            "text/plain": [
              "Pipeline(memory=None,\n",
              "         steps=[('scaler',\n",
              "                 StandardScaler(copy=True, with_mean=True, with_std=True)),\n",
              "                ('mlp_play_predictor',\n",
              "                 MLPClassifier(activation='relu', alpha=0.0001,\n",
              "                               batch_size='auto', beta_1=0.9, beta_2=0.999,\n",
              "                               early_stopping=False, epsilon=1e-08,\n",
              "                               hidden_layer_sizes=(100,),\n",
              "                               learning_rate='constant',\n",
              "                               learning_rate_init=0.001, max_fun=15000,\n",
              "                               max_iter=200, momentum=0.9, n_iter_no_change=10,\n",
              "                               nesterovs_momentum=True, power_t=0.5,\n",
              "                               random_state=None, shuffle=True, solver='adam',\n",
              "                               tol=0.0001, validation_fraction=0.1,\n",
              "                               verbose=False, warm_start=False))],\n",
              "         verbose=False)"
            ]
          },
          "metadata": {
            "tags": []
          },
          "execution_count": 29
        }
      ]
    },
    {
      "cell_type": "code",
      "metadata": {
        "id": "R2FwMy7VoWhz",
        "outputId": "6a7ff2a1-f8c7-4fe2-cb07-0edfbd9e1422",
        "colab": {
          "base_uri": "https://localhost:8080/"
        }
      },
      "source": [
        "gb_play_predictor_pipeline.fit(play_predictor_X_train, play_predictor_y_train)"
      ],
      "execution_count": 30,
      "outputs": [
        {
          "output_type": "execute_result",
          "data": {
            "text/plain": [
              "Pipeline(memory=None,\n",
              "         steps=[('scaler',\n",
              "                 StandardScaler(copy=True, with_mean=True, with_std=True)),\n",
              "                ('gb_play_predictor',\n",
              "                 GradientBoostingClassifier(ccp_alpha=0.0,\n",
              "                                            criterion='friedman_mse', init=None,\n",
              "                                            learning_rate=0.1, loss='deviance',\n",
              "                                            max_depth=3, max_features=None,\n",
              "                                            max_leaf_nodes=None,\n",
              "                                            min_impurity_decrease=0.0,\n",
              "                                            min_impurity_split=None,\n",
              "                                            min_samples_leaf=1,\n",
              "                                            min_samples_split=2,\n",
              "                                            min_weight_fraction_leaf=0.0,\n",
              "                                            n_estimators=100,\n",
              "                                            n_iter_no_change=None,\n",
              "                                            presort='deprecated',\n",
              "                                            random_state=None, subsample=1.0,\n",
              "                                            tol=0.0001, validation_fraction=0.1,\n",
              "                                            verbose=0, warm_start=False))],\n",
              "         verbose=False)"
            ]
          },
          "metadata": {
            "tags": []
          },
          "execution_count": 30
        }
      ]
    },
    {
      "cell_type": "code",
      "metadata": {
        "id": "36xdp-I8udin"
      },
      "source": [
        "mlp_play_predictions = mlp_play_predictor_pipeline.predict(play_predictor_X_test)"
      ],
      "execution_count": 32,
      "outputs": []
    },
    {
      "cell_type": "code",
      "metadata": {
        "id": "SSw3EiSjusBE"
      },
      "source": [
        "gb_play_predictions = gb_play_predictor_pipeline.predict(play_predictor_X_test)"
      ],
      "execution_count": 33,
      "outputs": []
    },
    {
      "cell_type": "code",
      "metadata": {
        "id": "dVdmGJEnu6PE"
      },
      "source": [
        "mlp_play_predictor_accuracy = accuracy_score(play_predictor_y_test, mlp_play_predictions)\n",
        "\n",
        "gb_play_predictor_accuracy = accuracy_score(play_predictor_y_test, gb_play_predictions)"
      ],
      "execution_count": 34,
      "outputs": []
    },
    {
      "cell_type": "code",
      "metadata": {
        "id": "hP58bW_DvPE1"
      },
      "source": [
        "mlp_play_predictor_report = classification_report(play_predictor_y_test, mlp_play_predictions)\n",
        "\n",
        "gb_play_predictor_report = classification_report(play_predictor_y_test, gb_play_predictions)"
      ],
      "execution_count": 35,
      "outputs": []
    },
    {
      "cell_type": "code",
      "metadata": {
        "id": "c7f7EMA7va-5",
        "outputId": "9757f910-bee7-4e89-f817-4f7075666574",
        "colab": {
          "base_uri": "https://localhost:8080/"
        }
      },
      "source": [
        "print(\"Multilayer Perceptron Classifier accuracy: {}\".format(mlp_play_predictor_accuracy))\n",
        "print()\n",
        "print(\"Classification report for Multilayer Perceptron Classifier: \")\n",
        "print(mlp_play_predictor_report)\n",
        "\n",
        "\n",
        "print()\n",
        "print()\n",
        "print()\n",
        "\n",
        "print(\"Gradient Boost Classifier accuracy: {}\".format(gb_play_predictor_accuracy))\n",
        "print()\n",
        "print(\"Classification report for Gradient Boost Classifier: \")\n",
        "print(gb_play_predictor_report)\n",
        "\n",
        "\n",
        "\n"
      ],
      "execution_count": 41,
      "outputs": [
        {
          "output_type": "stream",
          "text": [
            "Multilayer Perceptron Classifier accuracy: 0.7462095362430644\n",
            "\n",
            "Classification report for Multilayer Perceptron Classifier: \n",
            "              precision    recall  f1-score   support\n",
            "\n",
            "           0       0.74      0.76      0.75     55945\n",
            "           1       0.64      0.67      0.65     39956\n",
            "           2       0.93      0.48      0.63     12793\n",
            "           3       0.92      0.96      0.94      7668\n",
            "           4       0.92      0.99      0.95      7133\n",
            "           5       0.84      0.98      0.90      3286\n",
            "           6       0.84      0.97      0.90      2892\n",
            "           7       0.67      0.83      0.74      1099\n",
            "           8       0.65      0.26      0.38       208\n",
            "           9       0.95      0.96      0.95      3832\n",
            "\n",
            "    accuracy                           0.75    134812\n",
            "   macro avg       0.81      0.78      0.78    134812\n",
            "weighted avg       0.75      0.75      0.74    134812\n",
            "\n",
            "\n",
            "\n",
            "\n",
            "Gradient Boost Classifier accuracy: 0.7512461798652939\n",
            "\n",
            "Classification report for Gradient Boost Classifier: \n",
            "              precision    recall  f1-score   support\n",
            "\n",
            "           0       0.73      0.76      0.75     55945\n",
            "           1       0.63      0.67      0.65     39956\n",
            "           2       0.96      0.53      0.68     12793\n",
            "           3       0.97      0.98      0.98      7668\n",
            "           4       0.92      0.99      0.95      7133\n",
            "           5       0.88      0.99      0.93      3286\n",
            "           6       0.85      0.95      0.89      2892\n",
            "           7       0.71      0.76      0.74      1099\n",
            "           8       0.29      0.03      0.05       208\n",
            "           9       0.97      0.96      0.97      3832\n",
            "\n",
            "    accuracy                           0.75    134812\n",
            "   macro avg       0.79      0.76      0.76    134812\n",
            "weighted avg       0.76      0.75      0.75    134812\n",
            "\n"
          ],
          "name": "stdout"
        }
      ]
    },
    {
      "cell_type": "code",
      "metadata": {
        "id": "yFpdJuruwSt1",
        "outputId": "29b9ad4b-417e-4657-e0a8-1ed2569febf0",
        "colab": {
          "base_uri": "https://localhost:8080/",
          "height": 582
        }
      },
      "source": [
        "comparison = {'rand_forest_play_predictor':rand_forest_play_prediction_accuracy, \n",
        "            'sgd_play_predictor':sgd_play_prediction_accuracy, 'gb_play_predictor':gb_play_predictor_accuracy, 'mlp_play_predictor':mlp_play_predictor_accuracy}\n",
        "\n",
        "compare_metrics = pd.DataFrame(data=comparison, index=['Model Comparison'])\n",
        "\n",
        "compare_metrics.plot.bar(figsize=(12,8))"
      ],
      "execution_count": 61,
      "outputs": [
        {
          "output_type": "execute_result",
          "data": {
            "text/plain": [
              "<matplotlib.axes._subplots.AxesSubplot at 0x7f4280660828>"
            ]
          },
          "metadata": {
            "tags": []
          },
          "execution_count": 61
        },
        {
          "output_type": "display_data",
          "data": {
            "image/png": "[encoded data removed]",
            "text/plain": [
              "<Figure size 864x576 with 1 Axes>"
            ]
          },
          "metadata": {
            "tags": [],
            "needs_background": "light"
          }
        }
      ]
    },
    {
      "cell_type": "code",
      "metadata": {
        "id": "ZioIa9SJyBXh"
      },
      "source": [
        "total_model_df = pd.DataFrame({'Actual_Play_Type':play_predictor_y_test, 'Gradient_Boost_Classifier':gb_play_predictions, 'Multi_Layer_Perceptron_Classifier':mlp_play_predictions, 'Random_Forest_Classifier':rand_forest_play_predictions, 'Stochastic_Gradient_Descent_Classifier':sgd_play_predictions})"
      ],
      "execution_count": 108,
      "outputs": []
    },
    {
      "cell_type": "code",
      "metadata": {
        "id": "F5g6Nv40yqTf",
        "outputId": "ba9da94f-db26-4645-eb8f-bf68b5c38803",
        "colab": {
          "base_uri": "https://localhost:8080/",
          "height": 406
        }
      },
      "source": [
        "total_model_df"
      ],
      "execution_count": 109,
      "outputs": [
        {
          "output_type": "execute_result",
          "data": {
            "text/html": [
              "<div>\n",
              "<style scoped>\n",
              "    .dataframe tbody tr th:only-of-type {\n",
              "        vertical-align: middle;\n",
              "    }\n",
              "\n",
              "    .dataframe tbody tr th {\n",
              "        vertical-align: top;\n",
              "    }\n",
              "\n",
              "    .dataframe thead th {\n",
              "        text-align: right;\n",
              "    }\n",
              "</style>\n",
              "<table border=\"1\" class=\"dataframe\">\n",
              "  <thead>\n",
              "    <tr style=\"text-align: right;\">\n",
              "      <th></th>\n",
              "      <th>Actual_Play_Type</th>\n",
              "      <th>Gradient_Boost_Classifier</th>\n",
              "      <th>Multi_Layer_Perceptron_Classifier</th>\n",
              "      <th>Random_Forest_Classifier</th>\n",
              "      <th>Stochastic_Gradient_Descent_Classifier</th>\n",
              "    </tr>\n",
              "  </thead>\n",
              "  <tbody>\n",
              "    <tr>\n",
              "      <th>0</th>\n",
              "      <td>1</td>\n",
              "      <td>1</td>\n",
              "      <td>0</td>\n",
              "      <td>0</td>\n",
              "      <td>1</td>\n",
              "    </tr>\n",
              "    <tr>\n",
              "      <th>1</th>\n",
              "      <td>0</td>\n",
              "      <td>0</td>\n",
              "      <td>0</td>\n",
              "      <td>1</td>\n",
              "      <td>0</td>\n",
              "    </tr>\n",
              "    <tr>\n",
              "      <th>2</th>\n",
              "      <td>0</td>\n",
              "      <td>0</td>\n",
              "      <td>0</td>\n",
              "      <td>0</td>\n",
              "      <td>0</td>\n",
              "    </tr>\n",
              "    <tr>\n",
              "      <th>3</th>\n",
              "      <td>1</td>\n",
              "      <td>1</td>\n",
              "      <td>1</td>\n",
              "      <td>1</td>\n",
              "      <td>1</td>\n",
              "    </tr>\n",
              "    <tr>\n",
              "      <th>4</th>\n",
              "      <td>0</td>\n",
              "      <td>1</td>\n",
              "      <td>1</td>\n",
              "      <td>0</td>\n",
              "      <td>1</td>\n",
              "    </tr>\n",
              "    <tr>\n",
              "      <th>...</th>\n",
              "      <td>...</td>\n",
              "      <td>...</td>\n",
              "      <td>...</td>\n",
              "      <td>...</td>\n",
              "      <td>...</td>\n",
              "    </tr>\n",
              "    <tr>\n",
              "      <th>134807</th>\n",
              "      <td>1</td>\n",
              "      <td>1</td>\n",
              "      <td>1</td>\n",
              "      <td>1</td>\n",
              "      <td>1</td>\n",
              "    </tr>\n",
              "    <tr>\n",
              "      <th>134808</th>\n",
              "      <td>5</td>\n",
              "      <td>5</td>\n",
              "      <td>5</td>\n",
              "      <td>5</td>\n",
              "      <td>5</td>\n",
              "    </tr>\n",
              "    <tr>\n",
              "      <th>134809</th>\n",
              "      <td>0</td>\n",
              "      <td>1</td>\n",
              "      <td>1</td>\n",
              "      <td>2</td>\n",
              "      <td>1</td>\n",
              "    </tr>\n",
              "    <tr>\n",
              "      <th>134810</th>\n",
              "      <td>3</td>\n",
              "      <td>3</td>\n",
              "      <td>3</td>\n",
              "      <td>3</td>\n",
              "      <td>3</td>\n",
              "    </tr>\n",
              "    <tr>\n",
              "      <th>134811</th>\n",
              "      <td>0</td>\n",
              "      <td>0</td>\n",
              "      <td>0</td>\n",
              "      <td>0</td>\n",
              "      <td>0</td>\n",
              "    </tr>\n",
              "  </tbody>\n",
              "</table>\n",
              "<p>134812 rows × 5 columns</p>\n",
              "</div>"
            ],
            "text/plain": [
              "        Actual_Play_Type  ...  Stochastic_Gradient_Descent_Classifier\n",
              "0                      1  ...                                       1\n",
              "1                      0  ...                                       0\n",
              "2                      0  ...                                       0\n",
              "3                      1  ...                                       1\n",
              "4                      0  ...                                       1\n",
              "...                  ...  ...                                     ...\n",
              "134807                 1  ...                                       1\n",
              "134808                 5  ...                                       5\n",
              "134809                 0  ...                                       1\n",
              "134810                 3  ...                                       3\n",
              "134811                 0  ...                                       0\n",
              "\n",
              "[134812 rows x 5 columns]"
            ]
          },
          "metadata": {
            "tags": []
          },
          "execution_count": 109
        }
      ]
    },
    {
      "cell_type": "code",
      "metadata": {
        "id": "nromjaaUyuPb"
      },
      "source": [
        "total_model_df['Actual_Play_Type'] = total_model_df.Actual_Play_Type.apply(lambda row: \n",
        "                                                 'pass' if row == 0 \n",
        "                                                 else 'run' if row == 1 \n",
        "                                                 else 'no_play' if row == 2\n",
        "                                                 else 'kickoff' if row == 3 \n",
        "                                                 else 'punt' if row == 4 \n",
        "                                                 else 'extra_point' if row == 5\n",
        "                                                 else 'field_goal' if row == 6\n",
        "                                                 else 'qb_kneel' if row == 7\n",
        "                                                 else 'qb_spike' if row == 8\n",
        "                                                 else 9)"
      ],
      "execution_count": 110,
      "outputs": []
    },
    {
      "cell_type": "code",
      "metadata": {
        "id": "Zn3tEkaQy0ev"
      },
      "source": [
        "total_model_df['Gradient_Boost_Classifier'] = total_model_df.Gradient_Boost_Classifier.apply(lambda row: \n",
        "                                                 'pass' if row == 0 \n",
        "                                                 else 'run' if row == 1 \n",
        "                                                 else 'no_play' if row == 2\n",
        "                                                 else 'kickoff' if row == 3 \n",
        "                                                 else 'punt' if row == 4 \n",
        "                                                 else 'extra_point' if row == 5\n",
        "                                                 else 'field_goal' if row == 6\n",
        "                                                 else 'qb_kneel' if row == 7\n",
        "                                                 else 'qb_spike' if row == 8\n",
        "                                                 else 9)"
      ],
      "execution_count": 111,
      "outputs": []
    },
    {
      "cell_type": "code",
      "metadata": {
        "id": "_EKjyIgizbvs"
      },
      "source": [
        "total_model_df['Multi_Layer_Perceptron_Classifier'] = total_model_df.Multi_Layer_Perceptron_Classifier.apply(lambda row: \n",
        "                                                 'pass' if row == 0 \n",
        "                                                 else 'run' if row == 1 \n",
        "                                                 else 'no_play' if row == 2\n",
        "                                                 else 'kickoff' if row == 3 \n",
        "                                                 else 'punt' if row == 4 \n",
        "                                                 else 'extra_point' if row == 5\n",
        "                                                 else 'field_goal' if row == 6\n",
        "                                                 else 'qb_kneel' if row == 7\n",
        "                                                 else 'qb_spike' if row == 8\n",
        "                                                 else 9)"
      ],
      "execution_count": 112,
      "outputs": []
    },
    {
      "cell_type": "code",
      "metadata": {
        "id": "R6sso6uTzoHs"
      },
      "source": [
        "total_model_df['Random_Forest_Classifier'] = total_model_df.Random_Forest_Classifier.apply(lambda row: \n",
        "                                                 'pass' if row == 0 \n",
        "                                                 else 'run' if row == 1 \n",
        "                                                 else 'no_play' if row == 2\n",
        "                                                 else 'kickoff' if row == 3 \n",
        "                                                 else 'punt' if row == 4 \n",
        "                                                 else 'extra_point' if row == 5\n",
        "                                                 else 'field_goal' if row == 6\n",
        "                                                 else 'qb_kneel' if row == 7\n",
        "                                                 else 'qb_spike' if row == 8\n",
        "                                                 else 9)"
      ],
      "execution_count": 113,
      "outputs": []
    },
    {
      "cell_type": "code",
      "metadata": {
        "id": "G59vkIOYzvY1"
      },
      "source": [
        "total_model_df['Stochastic_Gradient_Descent_Classifier'] = total_model_df.Stochastic_Gradient_Descent_Classifier.apply(lambda row: \n",
        "                                                 'pass' if row == 0 \n",
        "                                                 else 'run' if row == 1 \n",
        "                                                 else 'no_play' if row == 2\n",
        "                                                 else 'kickoff' if row == 3 \n",
        "                                                 else 'punt' if row == 4 \n",
        "                                                 else 'extra_point' if row == 5\n",
        "                                                 else 'field_goal' if row == 6\n",
        "                                                 else 'qb_kneel' if row == 7\n",
        "                                                 else 'qb_spike' if row == 8\n",
        "                                                 else 9)"
      ],
      "execution_count": 114,
      "outputs": []
    },
    {
      "cell_type": "code",
      "metadata": {
        "id": "7-n2--GY2h0R",
        "outputId": "7da6de65-4389-440b-f154-b6d0fbe85beb",
        "colab": {
          "base_uri": "https://localhost:8080/",
          "height": 406
        }
      },
      "source": [
        "total_model_df"
      ],
      "execution_count": 115,
      "outputs": [
        {
          "output_type": "execute_result",
          "data": {
            "text/html": [
              "<div>\n",
              "<style scoped>\n",
              "    .dataframe tbody tr th:only-of-type {\n",
              "        vertical-align: middle;\n",
              "    }\n",
              "\n",
              "    .dataframe tbody tr th {\n",
              "        vertical-align: top;\n",
              "    }\n",
              "\n",
              "    .dataframe thead th {\n",
              "        text-align: right;\n",
              "    }\n",
              "</style>\n",
              "<table border=\"1\" class=\"dataframe\">\n",
              "  <thead>\n",
              "    <tr style=\"text-align: right;\">\n",
              "      <th></th>\n",
              "      <th>Actual_Play_Type</th>\n",
              "      <th>Gradient_Boost_Classifier</th>\n",
              "      <th>Multi_Layer_Perceptron_Classifier</th>\n",
              "      <th>Random_Forest_Classifier</th>\n",
              "      <th>Stochastic_Gradient_Descent_Classifier</th>\n",
              "    </tr>\n",
              "  </thead>\n",
              "  <tbody>\n",
              "    <tr>\n",
              "      <th>0</th>\n",
              "      <td>run</td>\n",
              "      <td>run</td>\n",
              "      <td>pass</td>\n",
              "      <td>pass</td>\n",
              "      <td>run</td>\n",
              "    </tr>\n",
              "    <tr>\n",
              "      <th>1</th>\n",
              "      <td>pass</td>\n",
              "      <td>pass</td>\n",
              "      <td>pass</td>\n",
              "      <td>run</td>\n",
              "      <td>pass</td>\n",
              "    </tr>\n",
              "    <tr>\n",
              "      <th>2</th>\n",
              "      <td>pass</td>\n",
              "      <td>pass</td>\n",
              "      <td>pass</td>\n",
              "      <td>pass</td>\n",
              "      <td>pass</td>\n",
              "    </tr>\n",
              "    <tr>\n",
              "      <th>3</th>\n",
              "      <td>run</td>\n",
              "      <td>run</td>\n",
              "      <td>run</td>\n",
              "      <td>run</td>\n",
              "      <td>run</td>\n",
              "    </tr>\n",
              "    <tr>\n",
              "      <th>4</th>\n",
              "      <td>pass</td>\n",
              "      <td>run</td>\n",
              "      <td>run</td>\n",
              "      <td>pass</td>\n",
              "      <td>run</td>\n",
              "    </tr>\n",
              "    <tr>\n",
              "      <th>...</th>\n",
              "      <td>...</td>\n",
              "      <td>...</td>\n",
              "      <td>...</td>\n",
              "      <td>...</td>\n",
              "      <td>...</td>\n",
              "    </tr>\n",
              "    <tr>\n",
              "      <th>134807</th>\n",
              "      <td>run</td>\n",
              "      <td>run</td>\n",
              "      <td>run</td>\n",
              "      <td>run</td>\n",
              "      <td>run</td>\n",
              "    </tr>\n",
              "    <tr>\n",
              "      <th>134808</th>\n",
              "      <td>extra_point</td>\n",
              "      <td>extra_point</td>\n",
              "      <td>extra_point</td>\n",
              "      <td>extra_point</td>\n",
              "      <td>extra_point</td>\n",
              "    </tr>\n",
              "    <tr>\n",
              "      <th>134809</th>\n",
              "      <td>pass</td>\n",
              "      <td>run</td>\n",
              "      <td>run</td>\n",
              "      <td>no_play</td>\n",
              "      <td>run</td>\n",
              "    </tr>\n",
              "    <tr>\n",
              "      <th>134810</th>\n",
              "      <td>kickoff</td>\n",
              "      <td>kickoff</td>\n",
              "      <td>kickoff</td>\n",
              "      <td>kickoff</td>\n",
              "      <td>kickoff</td>\n",
              "    </tr>\n",
              "    <tr>\n",
              "      <th>134811</th>\n",
              "      <td>pass</td>\n",
              "      <td>pass</td>\n",
              "      <td>pass</td>\n",
              "      <td>pass</td>\n",
              "      <td>pass</td>\n",
              "    </tr>\n",
              "  </tbody>\n",
              "</table>\n",
              "<p>134812 rows × 5 columns</p>\n",
              "</div>"
            ],
            "text/plain": [
              "       Actual_Play_Type  ... Stochastic_Gradient_Descent_Classifier\n",
              "0                   run  ...                                    run\n",
              "1                  pass  ...                                   pass\n",
              "2                  pass  ...                                   pass\n",
              "3                   run  ...                                    run\n",
              "4                  pass  ...                                    run\n",
              "...                 ...  ...                                    ...\n",
              "134807              run  ...                                    run\n",
              "134808      extra_point  ...                            extra_point\n",
              "134809             pass  ...                                    run\n",
              "134810          kickoff  ...                                kickoff\n",
              "134811             pass  ...                                   pass\n",
              "\n",
              "[134812 rows x 5 columns]"
            ]
          },
          "metadata": {
            "tags": []
          },
          "execution_count": 115
        }
      ]
    },
    {
      "cell_type": "code",
      "metadata": {
        "id": "-5JiUqN30QDB"
      },
      "source": [
        "model_accuracy = pd.DataFrame({'Gradient_Boost_Classifier':gb_play_predictor_accuracy, 'Multi_Layer_Perceptron_Classifier':mlp_play_predictor_accuracy, 'Random_Forest_Classifier':rand_forest_play_prediction_accuracy, 'Stochastic_Gradient_Descent_Classifier':sgd_play_prediction_accuracy}, index=['Model Accuracy Comparison'])"
      ],
      "execution_count": 101,
      "outputs": []
    },
    {
      "cell_type": "code",
      "metadata": {
        "id": "Us3tQ7as1SWJ",
        "outputId": "b64c12cf-720a-4d4f-c1e6-e52e4117db7b",
        "colab": {
          "base_uri": "https://localhost:8080/",
          "height": 77
        }
      },
      "source": [
        "model_accuracy"
      ],
      "execution_count": 102,
      "outputs": [
        {
          "output_type": "execute_result",
          "data": {
            "text/html": [
              "<div>\n",
              "<style scoped>\n",
              "    .dataframe tbody tr th:only-of-type {\n",
              "        vertical-align: middle;\n",
              "    }\n",
              "\n",
              "    .dataframe tbody tr th {\n",
              "        vertical-align: top;\n",
              "    }\n",
              "\n",
              "    .dataframe thead th {\n",
              "        text-align: right;\n",
              "    }\n",
              "</style>\n",
              "<table border=\"1\" class=\"dataframe\">\n",
              "  <thead>\n",
              "    <tr style=\"text-align: right;\">\n",
              "      <th></th>\n",
              "      <th>Gradient_Boost_Classifier</th>\n",
              "      <th>Multi_Layer_Perceptron_Classifier</th>\n",
              "      <th>Random_Forest_Classifier</th>\n",
              "      <th>Stochastic_Gradient_Descent_Classifier</th>\n",
              "    </tr>\n",
              "  </thead>\n",
              "  <tbody>\n",
              "    <tr>\n",
              "      <th>Model Accuracy Comparison</th>\n",
              "      <td>0.751246</td>\n",
              "      <td>0.74621</td>\n",
              "      <td>0.708097</td>\n",
              "      <td>0.666306</td>\n",
              "    </tr>\n",
              "  </tbody>\n",
              "</table>\n",
              "</div>"
            ],
            "text/plain": [
              "                           Gradient_Boost_Classifier  ...  Stochastic_Gradient_Descent_Classifier\n",
              "Model Accuracy Comparison                   0.751246  ...                                0.666306\n",
              "\n",
              "[1 rows x 4 columns]"
            ]
          },
          "metadata": {
            "tags": []
          },
          "execution_count": 102
        }
      ]
    },
    {
      "cell_type": "code",
      "metadata": {
        "id": "0cJcXFCz1VQi"
      },
      "source": [
        "#Best Model: Gradient Boost Classifier\n",
        "\n",
        "#This should not come as a surprise, as it is built to be a very efficient implementation of the decision tree, as its training speeds are faster and can handle\n",
        "#large amounts of data.\n",
        "\n"
      ],
      "execution_count": 100,
      "outputs": []
    },
    {
      "cell_type": "code",
      "metadata": {
        "id": "Z5h3ohjJAr0Z"
      },
      "source": [
        "#DUE TO TIME CONSTRAINTS I DID NOT GET TO HYPERPARAMETER TUNING AND CROSS VALIDATION OF THE MODEL"
      ],
      "execution_count": null,
      "outputs": []
    }
  ]
}